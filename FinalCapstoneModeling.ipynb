{
  "nbformat": 4,
  "nbformat_minor": 0,
  "metadata": {
    "colab": {
      "provenance": []
    },
    "kernelspec": {
      "name": "python3",
      "display_name": "Python 3"
    },
    "language_info": {
      "name": "python"
    }
  },
  "cells": [
    {
      "cell_type": "code",
      "execution_count": 26,
      "metadata": {
        "id": "UD3wBAmeHc4s"
      },
      "outputs": [],
      "source": [
        "import pandas as pd\n",
        "import numpy as np\n",
        "import matplotlib.pyplot as plt\n",
        "import seaborn as sns\n",
        "from sklearn.feature_extraction.text import TfidfVectorizer\n",
        "from sklearn.metrics.pairwise import cosine_similarity"
      ]
    },
    {
      "cell_type": "code",
      "source": [
        "df = pd.read_csv('/content/drive/MyDrive/booksdatasetwithimages.csv')\n",
        "print(df.head())"
      ],
      "metadata": {
        "colab": {
          "base_uri": "https://localhost:8080/"
        },
        "id": "Q8fdnf4tHjvO",
        "outputId": "5a1d8e0c-ff43-46cd-b5ed-2c82b66111df"
      },
      "execution_count": 27,
      "outputs": [
        {
          "output_type": "stream",
          "name": "stdout",
          "text": [
            "  bookID                                              title  \\\n",
            "0      1  Harry Potter and the Half-Blood Prince (Harry ...   \n",
            "1      2  Harry Potter and the Order of the Phoenix (Har...   \n",
            "2      4  Harry Potter and the Chamber of Secrets (Harry...   \n",
            "3      5  Harry Potter and the Prisoner of Azkaban (Harr...   \n",
            "4      8  Harry Potter Boxed Set  Books 1-5 (Harry Potte...   \n",
            "\n",
            "                      authors average_rating        isbn         isbn13  \\\n",
            "0  J.K. Rowling/Mary GrandPré           4.57  0439785960  9780439785969   \n",
            "1  J.K. Rowling/Mary GrandPré           4.49  0439358078  9780439358071   \n",
            "2                J.K. Rowling           4.42  0439554896  9780439554893   \n",
            "3  J.K. Rowling/Mary GrandPré           4.56  043965548X  9780439655484   \n",
            "4  J.K. Rowling/Mary GrandPré           4.78  0439682584  9780439682589   \n",
            "\n",
            "  language_code num_pages  ratings_count  text_reviews_count publication_date  \\\n",
            "0           eng       652      2095690.0             27591.0        9/16/2006   \n",
            "1           eng       870      2153167.0             29221.0         9/1/2004   \n",
            "2           eng       352         6333.0               244.0        11/1/2003   \n",
            "3           eng       435      2339585.0             36325.0         5/1/2004   \n",
            "4           eng      2690        41428.0               164.0        9/13/2004   \n",
            "\n",
            "         publisher                                    cover_image_url  \n",
            "0  Scholastic Inc.  https://covers.openlibrary.org/b/isbn/04397859...  \n",
            "1  Scholastic Inc.  https://covers.openlibrary.org/b/isbn/04393580...  \n",
            "2       Scholastic  https://covers.openlibrary.org/b/isbn/04395548...  \n",
            "3  Scholastic Inc.  https://covers.openlibrary.org/b/isbn/04396554...  \n",
            "4       Scholastic  https://covers.openlibrary.org/b/isbn/04396825...  \n"
          ]
        }
      ]
    },
    {
      "cell_type": "code",
      "source": [
        "print(len(df))"
      ],
      "metadata": {
        "colab": {
          "base_uri": "https://localhost:8080/"
        },
        "id": "RtGz_rjzHjmt",
        "outputId": "bc1666b4-8424-482c-cea2-6cbe45bfbb69"
      },
      "execution_count": 28,
      "outputs": [
        {
          "output_type": "stream",
          "name": "stdout",
          "text": [
            "11131\n"
          ]
        }
      ]
    },
    {
      "cell_type": "code",
      "source": [
        "# Check for missing values\n",
        "print(df.isnull().sum())"
      ],
      "metadata": {
        "colab": {
          "base_uri": "https://localhost:8080/"
        },
        "id": "oOjuFSpyHjeM",
        "outputId": "8af50083-7ca1-4ea9-8798-82b34b527b0c"
      },
      "execution_count": 29,
      "outputs": [
        {
          "output_type": "stream",
          "name": "stdout",
          "text": [
            "bookID                0\n",
            "title                 4\n",
            "authors               4\n",
            "average_rating        4\n",
            "isbn                  0\n",
            "isbn13                4\n",
            "language_code         4\n",
            "num_pages             4\n",
            "ratings_count         4\n",
            "text_reviews_count    4\n",
            "publication_date      4\n",
            "publisher             4\n",
            "cover_image_url       0\n",
            "dtype: int64\n"
          ]
        }
      ]
    },
    {
      "cell_type": "code",
      "source": [
        "# Drop rows with any null values\n",
        "df.dropna(inplace=True)\n",
        "\n",
        "print(df.isnull().sum())"
      ],
      "metadata": {
        "colab": {
          "base_uri": "https://localhost:8080/"
        },
        "id": "JV8ZT9rtHu7m",
        "outputId": "ec0d8026-3a3f-4d40-a56e-e9fbb53dcf1a"
      },
      "execution_count": 30,
      "outputs": [
        {
          "output_type": "stream",
          "name": "stdout",
          "text": [
            "bookID                0\n",
            "title                 0\n",
            "authors               0\n",
            "average_rating        0\n",
            "isbn                  0\n",
            "isbn13                0\n",
            "language_code         0\n",
            "num_pages             0\n",
            "ratings_count         0\n",
            "text_reviews_count    0\n",
            "publication_date      0\n",
            "publisher             0\n",
            "cover_image_url       0\n",
            "dtype: int64\n"
          ]
        }
      ]
    },
    {
      "cell_type": "code",
      "source": [
        "print(len(df))"
      ],
      "metadata": {
        "colab": {
          "base_uri": "https://localhost:8080/"
        },
        "id": "cRjbzCK7Hu4O",
        "outputId": "014d0a67-15c4-4e06-d2f3-b6a251aa7c5c"
      },
      "execution_count": 31,
      "outputs": [
        {
          "output_type": "stream",
          "name": "stdout",
          "text": [
            "11127\n"
          ]
        }
      ]
    },
    {
      "cell_type": "code",
      "source": [
        "# Display data types of each column\n",
        "print(df.dtypes)\n",
        "\n",
        "#Alternatively, get a concise summary of the dataframe, including data types\n",
        "print(df.info())"
      ],
      "metadata": {
        "colab": {
          "base_uri": "https://localhost:8080/"
        },
        "id": "cwz8fhgVHu14",
        "outputId": "0b3557e1-ab67-4d68-c4aa-74c16970d852"
      },
      "execution_count": 32,
      "outputs": [
        {
          "output_type": "stream",
          "name": "stdout",
          "text": [
            "bookID                 object\n",
            "title                  object\n",
            "authors                object\n",
            "average_rating         object\n",
            "isbn                   object\n",
            "isbn13                 object\n",
            "language_code          object\n",
            "num_pages              object\n",
            "ratings_count         float64\n",
            "text_reviews_count    float64\n",
            "publication_date       object\n",
            "publisher              object\n",
            "cover_image_url        object\n",
            "dtype: object\n",
            "<class 'pandas.core.frame.DataFrame'>\n",
            "Index: 11127 entries, 0 to 11130\n",
            "Data columns (total 13 columns):\n",
            " #   Column              Non-Null Count  Dtype  \n",
            "---  ------              --------------  -----  \n",
            " 0   bookID              11127 non-null  object \n",
            " 1   title               11127 non-null  object \n",
            " 2   authors             11127 non-null  object \n",
            " 3   average_rating      11127 non-null  object \n",
            " 4   isbn                11127 non-null  object \n",
            " 5   isbn13              11127 non-null  object \n",
            " 6   language_code       11127 non-null  object \n",
            " 7   num_pages           11127 non-null  object \n",
            " 8   ratings_count       11127 non-null  float64\n",
            " 9   text_reviews_count  11127 non-null  float64\n",
            " 10  publication_date    11127 non-null  object \n",
            " 11  publisher           11127 non-null  object \n",
            " 12  cover_image_url     11127 non-null  object \n",
            "dtypes: float64(2), object(11)\n",
            "memory usage: 1.2+ MB\n",
            "None\n"
          ]
        }
      ]
    },
    {
      "cell_type": "code",
      "source": [
        "# Check for non-numeric values in 'average_rating'\n",
        "df[\"average_rating\"] = pd.to_numeric(df[\"average_rating\"], errors=\"coerce\")  # Converts invalid entries to NaN\n",
        "\n",
        "# Convert other columns safely\n",
        "df[\"bookID\"] = pd.to_numeric(df[\"bookID\"], errors=\"coerce\").astype(\"Int64\")  # Int64 allows NaN values\n",
        "df[\"num_pages\"] = pd.to_numeric(df[\"num_pages\"], errors=\"coerce\").astype(\"Int64\")\n",
        "df[\"ratings_count\"] = pd.to_numeric(df[\"ratings_count\"], errors=\"coerce\").astype(\"Int64\")\n",
        "df[\"text_reviews_count\"] = pd.to_numeric(df[\"text_reviews_count\"], errors=\"coerce\").astype(\"Int64\")\n",
        "\n",
        "# Convert publication_date to datetime\n",
        "df[\"publication_date\"] = pd.to_datetime(df[\"publication_date\"], errors=\"coerce\")\n",
        "\n",
        "# Save cleaned dataset\n",
        "df.to_csv(\"cleaned_dataset.csv\", index=False)\n",
        "\n",
        "print(\"Data type conversion completed and saved as 'cleaned_dataset.csv'.\")"
      ],
      "metadata": {
        "colab": {
          "base_uri": "https://localhost:8080/"
        },
        "id": "htc_58ltHuzX",
        "outputId": "72d4afa2-f92a-4bb6-bce0-e27ac98b10d0"
      },
      "execution_count": 33,
      "outputs": [
        {
          "output_type": "stream",
          "name": "stdout",
          "text": [
            "Data type conversion completed and saved as 'cleaned_dataset.csv'.\n"
          ]
        }
      ]
    },
    {
      "cell_type": "code",
      "source": [
        "df_cleaned = df.dropna()\n",
        "print(df_cleaned.isnull().sum())  # Verify no missing values"
      ],
      "metadata": {
        "colab": {
          "base_uri": "https://localhost:8080/"
        },
        "id": "lJFG5mYAHuwt",
        "outputId": "eec2aee6-99e9-4e73-cc3b-bb72bd2f7a58"
      },
      "execution_count": 34,
      "outputs": [
        {
          "output_type": "stream",
          "name": "stdout",
          "text": [
            "bookID                0\n",
            "title                 0\n",
            "authors               0\n",
            "average_rating        0\n",
            "isbn                  0\n",
            "isbn13                0\n",
            "language_code         0\n",
            "num_pages             0\n",
            "ratings_count         0\n",
            "text_reviews_count    0\n",
            "publication_date      0\n",
            "publisher             0\n",
            "cover_image_url       0\n",
            "dtype: int64\n"
          ]
        }
      ]
    },
    {
      "cell_type": "code",
      "source": [
        "print(df_cleaned.shape)  # Check new dataset size"
      ],
      "metadata": {
        "colab": {
          "base_uri": "https://localhost:8080/"
        },
        "id": "kFpv97OpHuuV",
        "outputId": "88832a77-195e-43f9-d225-c433b5e9213b"
      },
      "execution_count": 35,
      "outputs": [
        {
          "output_type": "stream",
          "name": "stdout",
          "text": [
            "(11121, 13)\n"
          ]
        }
      ]
    },
    {
      "cell_type": "code",
      "source": [
        "print(df_cleaned.isnull().sum())\n",
        "print(len(df_cleaned))"
      ],
      "metadata": {
        "colab": {
          "base_uri": "https://localhost:8080/"
        },
        "id": "ew-p0iNRIWAm",
        "outputId": "0e61e188-9de4-4fcd-c48b-6cc41ef8cf22"
      },
      "execution_count": 36,
      "outputs": [
        {
          "output_type": "stream",
          "name": "stdout",
          "text": [
            "bookID                0\n",
            "title                 0\n",
            "authors               0\n",
            "average_rating        0\n",
            "isbn                  0\n",
            "isbn13                0\n",
            "language_code         0\n",
            "num_pages             0\n",
            "ratings_count         0\n",
            "text_reviews_count    0\n",
            "publication_date      0\n",
            "publisher             0\n",
            "cover_image_url       0\n",
            "dtype: int64\n",
            "11121\n"
          ]
        }
      ]
    },
    {
      "cell_type": "code",
      "source": [
        "# Display data types of each column\n",
        "print(df_cleaned.dtypes)\n",
        "\n",
        "#Alternatively, get a concise summary of the dataframe, including data types\n",
        "print(df_cleaned.info())"
      ],
      "metadata": {
        "colab": {
          "base_uri": "https://localhost:8080/"
        },
        "id": "GDDrWe5jIV9O",
        "outputId": "b50eccfc-c928-4095-e52f-3adc82b00463"
      },
      "execution_count": 37,
      "outputs": [
        {
          "output_type": "stream",
          "name": "stdout",
          "text": [
            "bookID                         Int64\n",
            "title                         object\n",
            "authors                       object\n",
            "average_rating               float64\n",
            "isbn                          object\n",
            "isbn13                        object\n",
            "language_code                 object\n",
            "num_pages                      Int64\n",
            "ratings_count                  Int64\n",
            "text_reviews_count             Int64\n",
            "publication_date      datetime64[ns]\n",
            "publisher                     object\n",
            "cover_image_url               object\n",
            "dtype: object\n",
            "<class 'pandas.core.frame.DataFrame'>\n",
            "Index: 11121 entries, 0 to 11130\n",
            "Data columns (total 13 columns):\n",
            " #   Column              Non-Null Count  Dtype         \n",
            "---  ------              --------------  -----         \n",
            " 0   bookID              11121 non-null  Int64         \n",
            " 1   title               11121 non-null  object        \n",
            " 2   authors             11121 non-null  object        \n",
            " 3   average_rating      11121 non-null  float64       \n",
            " 4   isbn                11121 non-null  object        \n",
            " 5   isbn13              11121 non-null  object        \n",
            " 6   language_code       11121 non-null  object        \n",
            " 7   num_pages           11121 non-null  Int64         \n",
            " 8   ratings_count       11121 non-null  Int64         \n",
            " 9   text_reviews_count  11121 non-null  Int64         \n",
            " 10  publication_date    11121 non-null  datetime64[ns]\n",
            " 11  publisher           11121 non-null  object        \n",
            " 12  cover_image_url     11121 non-null  object        \n",
            "dtypes: Int64(4), datetime64[ns](1), float64(1), object(7)\n",
            "memory usage: 1.2+ MB\n",
            "None\n"
          ]
        }
      ]
    },
    {
      "cell_type": "code",
      "source": [
        "print(df_cleaned.describe())  # Summary of numerical columns"
      ],
      "metadata": {
        "colab": {
          "base_uri": "https://localhost:8080/"
        },
        "id": "yI1KS0TBIV6l",
        "outputId": "01f73636-3749-4db5-8055-5f982e64984f"
      },
      "execution_count": 38,
      "outputs": [
        {
          "output_type": "stream",
          "name": "stdout",
          "text": [
            "             bookID  average_rating   num_pages  ratings_count  \\\n",
            "count       11121.0    11121.000000     11121.0        11121.0   \n",
            "mean   21307.774301        3.934058  336.343944   17945.119683   \n",
            "min             1.0        0.000000         0.0            0.0   \n",
            "25%         10270.0        3.770000       192.0          104.0   \n",
            "50%         20264.0        3.960000       299.0          745.0   \n",
            "75%         32104.0        4.140000       416.0         4996.0   \n",
            "max         45641.0        5.000000      6576.0      4597666.0   \n",
            "std    13093.542472        0.350513  241.129968  112509.119873   \n",
            "\n",
            "       text_reviews_count               publication_date  \n",
            "count             11121.0                          11121  \n",
            "mean           542.118874  2000-08-29 03:05:33.099541504  \n",
            "min                   0.0            1900-01-01 00:00:00  \n",
            "25%                   9.0            1998-07-17 00:00:00  \n",
            "50%                  47.0            2003-03-01 00:00:00  \n",
            "75%                 238.0            2005-10-01 00:00:00  \n",
            "max               94265.0            2020-03-31 00:00:00  \n",
            "std           2576.845134                            NaN  \n"
          ]
        }
      ]
    },
    {
      "cell_type": "code",
      "source": [
        "df_cleaned['average_rating'].hist(bins=20)"
      ],
      "metadata": {
        "colab": {
          "base_uri": "https://localhost:8080/",
          "height": 447
        },
        "id": "zuO54WEvIpPR",
        "outputId": "2708b466-6a07-4002-9f9e-a57c6bc69431"
      },
      "execution_count": 39,
      "outputs": [
        {
          "output_type": "execute_result",
          "data": {
            "text/plain": [
              "<Axes: >"
            ]
          },
          "metadata": {},
          "execution_count": 39
        },
        {
          "output_type": "display_data",
          "data": {
            "text/plain": [
              "<Figure size 640x480 with 1 Axes>"
            ],
            "image/png": "[encoded data removed]"
          },
          "metadata": {}
        }
      ]
    },
    {
      "cell_type": "code",
      "source": [
        "df_cleaned['num_pages'].hist(bins=30)"
      ],
      "metadata": {
        "colab": {
          "base_uri": "https://localhost:8080/",
          "height": 447
        },
        "id": "NCq6e_mDIpLm",
        "outputId": "add86f8f-f44d-4ca1-f13f-6d538efa3a1e"
      },
      "execution_count": 40,
      "outputs": [
        {
          "output_type": "execute_result",
          "data": {
            "text/plain": [
              "<Axes: >"
            ]
          },
          "metadata": {},
          "execution_count": 40
        },
        {
          "output_type": "display_data",
          "data": {
            "text/plain": [
              "<Figure size 640x480 with 1 Axes>"
            ],
            "image/png": "[encoded data removed]"
          },
          "metadata": {}
        }
      ]
    },
    {
      "cell_type": "code",
      "source": [
        "df_cleaned['ratings_count'].hist(bins=30)"
      ],
      "metadata": {
        "colab": {
          "base_uri": "https://localhost:8080/",
          "height": 465
        },
        "id": "gA_RFg9vIpJm",
        "outputId": "355d24df-a6e4-48ac-d08d-d3a7acfc9005"
      },
      "execution_count": 41,
      "outputs": [
        {
          "output_type": "execute_result",
          "data": {
            "text/plain": [
              "<Axes: >"
            ]
          },
          "metadata": {},
          "execution_count": 41
        },
        {
          "output_type": "display_data",
          "data": {
            "text/plain": [
              "<Figure size 640x480 with 1 Axes>"
            ],
            "image/png": "[encoded data removed]"
          },
          "metadata": {}
        }
      ]
    },
    {
      "cell_type": "code",
      "source": [
        "print(df_cleaned.isnull().sum())"
      ],
      "metadata": {
        "colab": {
          "base_uri": "https://localhost:8080/"
        },
        "id": "Q34p45YSIpHV",
        "outputId": "27367bbd-3bc1-4826-c374-8b178e6422dc"
      },
      "execution_count": 42,
      "outputs": [
        {
          "output_type": "stream",
          "name": "stdout",
          "text": [
            "bookID                0\n",
            "title                 0\n",
            "authors               0\n",
            "average_rating        0\n",
            "isbn                  0\n",
            "isbn13                0\n",
            "language_code         0\n",
            "num_pages             0\n",
            "ratings_count         0\n",
            "text_reviews_count    0\n",
            "publication_date      0\n",
            "publisher             0\n",
            "cover_image_url       0\n",
            "dtype: int64\n"
          ]
        }
      ]
    },
    {
      "cell_type": "code",
      "source": [
        "top_rated_books = df_cleaned.nlargest(10, 'average_rating')\n",
        "print(top_rated_books[['title', 'average_rating']])"
      ],
      "metadata": {
        "colab": {
          "base_uri": "https://localhost:8080/"
        },
        "id": "Elnw0qAUIpEx",
        "outputId": "ec1cb6b9-bc83-4037-d72b-0c562beb5b2c"
      },
      "execution_count": 43,
      "outputs": [
        {
          "output_type": "stream",
          "name": "stdout",
          "text": [
            "                                                  title  average_rating\n",
            "624   Comoediae 1: Acharenses/Equites/Nubes/Vespae/P...             5.0\n",
            "786                   Willem de Kooning: Late Paintings             5.0\n",
            "855   Literature Circle Guide: Bridge to Terabithia:...             5.0\n",
            "1243  Middlesex Borough (Images of America: New Jersey)             5.0\n",
            "4127  Zone of the Enders: The 2nd Runner Official St...             5.0\n",
            "4792  The Diamond Color Meditation: Color Pathway to...             5.0\n",
            "4937  Bulgakov's the Master and Margarita: The Text ...             5.0\n",
            "5027  The Complete Theory Fun Factory: Music Theory ...             5.0\n",
            "5478  The Goon Show  Volume 4: My Knees Have Fallen ...             5.0\n",
            "5480  The Goon Show  Volume 11: He's Fallen in the W...             5.0\n"
          ]
        }
      ]
    },
    {
      "cell_type": "code",
      "source": [
        "print(df_cleaned['authors'].value_counts().head(10))"
      ],
      "metadata": {
        "colab": {
          "base_uri": "https://localhost:8080/"
        },
        "id": "cwJSsqpXIV3J",
        "outputId": "4f20619a-afeb-4f74-9abc-52e965c40069"
      },
      "execution_count": 44,
      "outputs": [
        {
          "output_type": "stream",
          "name": "stdout",
          "text": [
            "authors\n",
            "P.G. Wodehouse                 40\n",
            "Stephen King                   40\n",
            "Rumiko Takahashi               39\n",
            "Orson Scott Card               35\n",
            "Agatha Christie                33\n",
            "Piers Anthony                  30\n",
            "Mercedes Lackey                29\n",
            "Sandra Brown                   29\n",
            "Dick Francis                   28\n",
            "Margaret Weis/Tracy Hickman    23\n",
            "Name: count, dtype: int64\n"
          ]
        }
      ]
    },
    {
      "cell_type": "code",
      "source": [
        "print(df_cleaned['publisher'].value_counts().head(10))"
      ],
      "metadata": {
        "colab": {
          "base_uri": "https://localhost:8080/"
        },
        "id": "NVVDfvP4IV0f",
        "outputId": "abae6c7f-72db-43b5-ea9d-44149db461f3"
      },
      "execution_count": 45,
      "outputs": [
        {
          "output_type": "stream",
          "name": "stdout",
          "text": [
            "publisher\n",
            "Vintage             318\n",
            "Penguin Books       261\n",
            "Penguin Classics    184\n",
            "Mariner Books       150\n",
            "Ballantine Books    144\n",
            "Harper Perennial    112\n",
            "HarperCollins       112\n",
            "Pocket Books        111\n",
            "Bantam              110\n",
            "VIZ Media LLC        88\n",
            "Name: count, dtype: int64\n"
          ]
        }
      ]
    },
    {
      "cell_type": "code",
      "source": [
        "import seaborn as sns\n",
        "sns.scatterplot(x='ratings_count', y='average_rating', data=df_cleaned)"
      ],
      "metadata": {
        "colab": {
          "base_uri": "https://localhost:8080/",
          "height": 467
        },
        "id": "ndTIGO0WJGpu",
        "outputId": "67ab0e93-1150-4043-e6c3-c73f4e22922d"
      },
      "execution_count": 46,
      "outputs": [
        {
          "output_type": "execute_result",
          "data": {
            "text/plain": [
              "<Axes: xlabel='ratings_count', ylabel='average_rating'>"
            ]
          },
          "metadata": {},
          "execution_count": 46
        },
        {
          "output_type": "display_data",
          "data": {
            "text/plain": [
              "<Figure size 640x480 with 1 Axes>"
            ],
            "image/png": "[encoded data removed]"
          },
          "metadata": {}
        }
      ]
    },
    {
      "cell_type": "code",
      "source": [
        "# Assuming data is stored in df_cleaned\n",
        "df = df_cleaned.copy()\n",
        "\n",
        "# Fill missing values (if any)\n",
        "df['title'] = df['title'].fillna('')\n",
        "df['authors'] = df['authors'].fillna('')\n",
        "df['average_rating'] = df['average_rating'].fillna(0).astype(float)\n",
        "\n",
        "# Combine relevant features into a single column\n",
        "df['features'] = df['title'] + ' ' + df['authors'] + ' ' + df['average_rating'].astype(str)\n",
        "\n",
        "# **Step 2: Convert Text to Features (TF-IDF)**\n",
        "vectorizer = TfidfVectorizer(stop_words='english')\n",
        "tfidf_matrix = vectorizer.fit_transform(df['features'])\n",
        "\n",
        "# **Step 3: Compute Cosine Similarity**\n",
        "cosine_sim = cosine_similarity(tfidf_matrix, tfidf_matrix)\n",
        "\n",
        "# **Step 4: Function to Recommend Similar Books**\n",
        "def recommend_books(book_title, num_recommendations=5):\n",
        "    # Find the book index\n",
        "    idx = df[df['title'].str.lower() == book_title.lower()].index\n",
        "    if len(idx) == 0:\n",
        "        return \"Book not found in dataset.\"\n",
        "    idx = idx[0]\n",
        "\n",
        "    # Get similarity scores for all books\n",
        "    sim_scores = list(enumerate(cosine_sim[idx]))\n",
        "\n",
        "    # Sort books by similarity score (excluding itself)\n",
        "    sim_scores = sorted(sim_scores, key=lambda x: x[1], reverse=True)[1:num_recommendations+1]\n",
        "\n",
        "    # Get book indices and return titles\n",
        "    book_indices = [i[0] for i in sim_scores]\n",
        "    return df.iloc[book_indices][['title', 'authors', 'average_rating']]\n",
        "\n",
        "# **Example Usage**\n",
        "print(recommend_books(\"Harry Potter and the Half-Blood Prince (Harry Potter  #6)\"))\n",
        "# recommend_books(\"Heirs of General Practice\")"
      ],
      "metadata": {
        "colab": {
          "base_uri": "https://localhost:8080/"
        },
        "id": "qBLrPBPWJGmo",
        "outputId": "5e0ca4cf-32c4-429c-f6aa-79cf3f3fa84e"
      },
      "execution_count": 47,
      "outputs": [
        {
          "output_type": "stream",
          "name": "stdout",
          "text": [
            "                                                  title  \\\n",
            "615   Harry Potter and the Half-Blood Prince (Harry ...   \n",
            "4417  Harry Potter and the Chamber of Secrets (Harry...   \n",
            "1     Harry Potter and the Order of the Phoenix (Har...   \n",
            "8879  Harry Potter and the Sorcerer's Stone (Harry P...   \n",
            "4     Harry Potter Boxed Set  Books 1-5 (Harry Potte...   \n",
            "\n",
            "                         authors  average_rating  \n",
            "615                 J.K. Rowling            4.57  \n",
            "4417  J.K. Rowling/Mary GrandPré            4.42  \n",
            "1     J.K. Rowling/Mary GrandPré            4.49  \n",
            "8879  J.K. Rowling/Mary GrandPré            4.47  \n",
            "4     J.K. Rowling/Mary GrandPré            4.78  \n"
          ]
        }
      ]
    },
    {
      "cell_type": "code",
      "source": [
        "import pandas as pd\n",
        "from surprise import Dataset, Reader, SVD\n",
        "from surprise.model_selection import train_test_split\n",
        "from surprise import accuracy\n",
        "\n",
        "# Assuming your DataFrame (df) contains the following columns: 'bookID', 'title', 'average_rating', etc.\n",
        "# Example DataFrame df format:\n",
        "# df = pd.DataFrame({\n",
        "#     'bookID': [1, 2, 4, 5, 8],\n",
        "#     'title': ['Harry Potter and the Half-Blood Prince', 'Harry Potter and the Order of the Phoenix', ...],\n",
        "#     'average_rating': [4.57, 4.49, 4.42, 4.56, 4.78],\n",
        "#     ...\n",
        "# })\n",
        "\n",
        "# Prepare data for Surprise (bookID, userID, rating)\n",
        "# Here we'll use bookID as a proxy for userID for simplicity since you may not have actual user data.\n",
        "df_model = df[['bookID', 'average_rating']]\n",
        "\n",
        "# Create a reader to specify the rating scale\n",
        "reader = Reader(rating_scale=(df_model['average_rating'].min(), df_model['average_rating'].max()))\n",
        "\n",
        "# Load data into the surprise dataset format\n",
        "data = Dataset.load_from_df(df_model[['bookID', 'bookID', 'average_rating']], reader)\n",
        "\n",
        "# Split data into training and test sets\n",
        "trainset, testset = train_test_split(data, test_size=0.2)\n",
        "\n",
        "# Initialize the SVD model\n",
        "model = SVD()\n",
        "\n",
        "# Train the model\n",
        "model.fit(trainset)\n",
        "\n",
        "# Make predictions on the testset\n",
        "predictions = model.test(testset)\n",
        "\n",
        "# Evaluate the model's performance\n",
        "rmse = accuracy.rmse(predictions)\n",
        "print(f\"Root Mean Squared Error: {rmse}\")\n",
        "\n",
        "# Example of making predictions for bookID 10 (instead of bookID 1)\n",
        "predicted_rating_10 = model.predict(1, 10)  # Predicting for bookID=10, userID=1 (use bookID as userID)\n",
        "print(f\"Predicted Rating for bookID 10: {predicted_rating_10.est}\")\n",
        "\n",
        "# You can also get the top N recommendations for a user or a book.\n",
        "# For simplicity, here we predict ratings for all books and then suggest top N.\n",
        "book_ratings = [(bookID, model.predict(1, bookID).est) for bookID in df['bookID']]\n",
        "book_ratings.sort(key=lambda x: x[1], reverse=True)\n",
        "\n",
        "# Show top 5 book recommendations for \"user 1\"\n",
        "top_5_recommendations = book_ratings[:5]\n",
        "print(\"Top 5 Book Recommendations for User 1:\")\n",
        "for book in top_5_recommendations:\n",
        "    book_title = df[df['bookID'] == book[0]]['title'].values[0]  # Get the book title\n",
        "    print(f\"Book: {book_title}, Predicted Rating: {book[1]}\")\n"
      ],
      "metadata": {
        "colab": {
          "base_uri": "https://localhost:8080/"
        },
        "id": "MxuOb3DH3lx5",
        "outputId": "545461e5-d64b-4753-e074-e3c7be572cc9"
      },
      "execution_count": 50,
      "outputs": [
        {
          "output_type": "stream",
          "name": "stdout",
          "text": [
            "RMSE: 0.3650\n",
            "Root Mean Squared Error: 0.364953424715571\n",
            "Predicted Rating for bookID 10: 3.8199930548330214\n",
            "Top 5 Book Recommendations for User 1:\n",
            "Book: The Bookseller of Kabul, Predicted Rating: 4.395001205576327\n",
            "Book: The War of the Flowers, Predicted Rating: 4.385098624044059\n",
            "Book: Redburn / White-Jacket / Moby-Dick, Predicted Rating: 4.361883288967645\n",
            "Book: 'Salem's Lot, Predicted Rating: 4.3533790773418115\n",
            "Book: The Hitchhiker's Guide to the Galaxy (Hitchhiker's Guide to the Galaxy  #1), Predicted Rating: 4.3427987425795385\n"
          ]
        }
      ]
    },
    {
      "cell_type": "code",
      "source": [
        "!pip install scikit-surprise"
      ],
      "metadata": {
        "colab": {
          "base_uri": "https://localhost:8080/"
        },
        "id": "PJDZiN2ewRSs",
        "outputId": "ec43dba4-aad2-4c18-db15-d150ea6d6f6e"
      },
      "execution_count": 49,
      "outputs": [
        {
          "output_type": "stream",
          "name": "stdout",
          "text": [
            "Collecting scikit-surprise\n",
            "  Downloading scikit_surprise-1.1.4.tar.gz (154 kB)\n",
            "\u001b[?25l     \u001b[90m━━━━━━━━━━━━━━━━━━━━━━━━━━━━━━━━━━━━━━━━\u001b[0m \u001b[32m0.0/154.4 kB\u001b[0m \u001b[31m?\u001b[0m eta \u001b[36m-:--:--\u001b[0m\r\u001b[2K     \u001b[90m━━━━━━━━━━━━━━━━━━━━━━━━━━━━━━━━━━━━━━━━\u001b[0m \u001b[32m154.4/154.4 kB\u001b[0m \u001b[31m4.3 MB/s\u001b[0m eta \u001b[36m0:00:00\u001b[0m\n",
            "\u001b[?25h  Installing build dependencies ... \u001b[?25l\u001b[?25hdone\n",
            "  Getting requirements to build wheel ... \u001b[?25l\u001b[?25hdone\n",
            "  Preparing metadata (pyproject.toml) ... \u001b[?25l\u001b[?25hdone\n",
            "Requirement already satisfied: joblib>=1.2.0 in /usr/local/lib/python3.11/dist-packages (from scikit-surprise) (1.4.2)\n",
            "Requirement already satisfied: numpy>=1.19.5 in /usr/local/lib/python3.11/dist-packages (from scikit-surprise) (1.26.4)\n",
            "Requirement already satisfied: scipy>=1.6.0 in /usr/local/lib/python3.11/dist-packages (from scikit-surprise) (1.14.1)\n",
            "Building wheels for collected packages: scikit-surprise\n",
            "  Building wheel for scikit-surprise (pyproject.toml) ... \u001b[?25l\u001b[?25hdone\n",
            "  Created wheel for scikit-surprise: filename=scikit_surprise-1.1.4-cp311-cp311-linux_x86_64.whl size=2505179 sha256=b5e8c4773ef5cfd8be8ef9abdc9be768ae6028053588b3a3a11b65186002c944\n",
            "  Stored in directory: /root/.cache/pip/wheels/2a/8f/6e/7e2899163e2d85d8266daab4aa1cdabec7a6c56f83c015b5af\n",
            "Successfully built scikit-surprise\n",
            "Installing collected packages: scikit-surprise\n",
            "Successfully installed scikit-surprise-1.1.4\n"
          ]
        }
      ]
    }
  ]
}